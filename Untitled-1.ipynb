{
 "cells": [
  {
   "cell_type": "code",
   "execution_count": 1,
   "metadata": {},
   "outputs": [],
   "source": [
    "import pandas as pd\n",
    "import yaml"
   ]
  },
  {
   "cell_type": "code",
   "execution_count": 7,
   "metadata": {},
   "outputs": [],
   "source": [
    "\n",
    "with open(\"configs/cars.yaml\", \"r\") as file:\n",
    "        confs = yaml.safe_load(file)\n",
    "        cars = dict()\n",
    "        for conf in confs:\n",
    "            cars[conf['type']] = conf\n",
    "        cars = pd.DataFrame(cars)"
   ]
  },
  {
   "cell_type": "code",
   "execution_count": 8,
   "metadata": {},
   "outputs": [
    {
     "data": {
      "text/html": [
       "<div>\n",
       "<style scoped>\n",
       "    .dataframe tbody tr th:only-of-type {\n",
       "        vertical-align: middle;\n",
       "    }\n",
       "\n",
       "    .dataframe tbody tr th {\n",
       "        vertical-align: top;\n",
       "    }\n",
       "\n",
       "    .dataframe thead th {\n",
       "        text-align: right;\n",
       "    }\n",
       "</style>\n",
       "<table border=\"1\" class=\"dataframe\">\n",
       "  <thead>\n",
       "    <tr style=\"text-align: right;\">\n",
       "      <th></th>\n",
       "      <th>civic</th>\n",
       "      <th>mercedes</th>\n",
       "      <th>r34</th>\n",
       "      <th>supra</th>\n",
       "      <th>traffic1</th>\n",
       "      <th>traffic3</th>\n",
       "    </tr>\n",
       "  </thead>\n",
       "  <tbody>\n",
       "    <tr>\n",
       "      <th>type</th>\n",
       "      <td>civic</td>\n",
       "      <td>mercedes</td>\n",
       "      <td>r34</td>\n",
       "      <td>supra</td>\n",
       "      <td>traffic1</td>\n",
       "      <td>traffic3</td>\n",
       "    </tr>\n",
       "    <tr>\n",
       "      <th>length</th>\n",
       "      <td>100</td>\n",
       "      <td>100</td>\n",
       "      <td>100</td>\n",
       "      <td>100</td>\n",
       "      <td>100</td>\n",
       "      <td>100</td>\n",
       "    </tr>\n",
       "    <tr>\n",
       "      <th>width</th>\n",
       "      <td>70</td>\n",
       "      <td>70</td>\n",
       "      <td>70</td>\n",
       "      <td>70</td>\n",
       "      <td>70</td>\n",
       "      <td>70</td>\n",
       "    </tr>\n",
       "    <tr>\n",
       "      <th>image</th>\n",
       "      <td>civic.png</td>\n",
       "      <td>civic.png</td>\n",
       "      <td>r34.png</td>\n",
       "      <td>supra.png</td>\n",
       "      <td>traffic_car2.png</td>\n",
       "      <td>traffic_car3.png</td>\n",
       "    </tr>\n",
       "  </tbody>\n",
       "</table>\n",
       "</div>"
      ],
      "text/plain": [
       "            civic   mercedes      r34      supra          traffic1  \\\n",
       "type        civic   mercedes      r34      supra          traffic1   \n",
       "length        100        100      100        100               100   \n",
       "width          70         70       70         70                70   \n",
       "image   civic.png  civic.png  r34.png  supra.png  traffic_car2.png   \n",
       "\n",
       "                traffic3  \n",
       "type            traffic3  \n",
       "length               100  \n",
       "width                 70  \n",
       "image   traffic_car3.png  "
      ]
     },
     "execution_count": 8,
     "metadata": {},
     "output_type": "execute_result"
    }
   ],
   "source": [
    "cars"
   ]
  },
  {
   "cell_type": "code",
   "execution_count": null,
   "metadata": {},
   "outputs": [],
   "source": []
  }
 ],
 "metadata": {
  "kernelspec": {
   "display_name": "base",
   "language": "python",
   "name": "python3"
  },
  "language_info": {
   "codemirror_mode": {
    "name": "ipython",
    "version": 3
   },
   "file_extension": ".py",
   "mimetype": "text/x-python",
   "name": "python",
   "nbconvert_exporter": "python",
   "pygments_lexer": "ipython3",
   "version": "3.11.4"
  }
 },
 "nbformat": 4,
 "nbformat_minor": 2
}
